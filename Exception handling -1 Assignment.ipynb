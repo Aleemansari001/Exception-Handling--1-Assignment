{
 "cells": [
  {
   "cell_type": "markdown",
   "id": "ff755bfc-631c-46e6-811d-381a36352fa4",
   "metadata": {},
   "source": [
    "Q.1- What is an Exception in python? Write the difference between Exception and Syntax errors."
   ]
  },
  {
   "cell_type": "markdown",
   "id": "961965e3-d536-477b-ad65-bda0def00b4d",
   "metadata": {},
   "source": [
    "Answer-\n",
    "An error is an issue in a program that prevents the program from completing its task. In comparison, an exception is a condition that interrupts the normal flow of the program. Both errors and exceptions are a type of runtime error, which means they occur during the execution of a program.\n",
    "\n",
    "we should write the program according to the correct syntax. If not, it will cause an error. This error type is known as a syntax error."
   ]
  },
  {
   "cell_type": "markdown",
   "id": "f5bb5da9-b098-4d5e-ada7-bab5d228e2e5",
   "metadata": {},
   "source": [
    "Q.2 What happens when an exception is not handled? Explain with an example."
   ]
  },
  {
   "cell_type": "markdown",
   "id": "74ff1ca0-38e5-4f3b-bba6-799b7d455160",
   "metadata": {},
   "source": [
    "When an exception occurred, if we don't handle it, the program terminates abruptly and the code past the line that caused the exception will not get executed."
   ]
  },
  {
   "cell_type": "markdown",
   "id": "355c24fa-1051-49a6-aca8-70fee667bb5a",
   "metadata": {},
   "source": [
    "Example"
   ]
  },
  {
   "cell_type": "code",
   "execution_count": 2,
   "id": "f8a6c05c-6934-4b8b-b706-537f94fb2055",
   "metadata": {},
   "outputs": [
    {
     "name": "stdout",
     "output_type": "stream",
     "text": [
      "Variable x is not defined\n"
     ]
    }
   ],
   "source": [
    "try:\n",
    "    print(x)\n",
    "except NameError:\n",
    "    print(\"Variable x is not defined\") #The try block will generate a NameError, because x is not defined:"
   ]
  },
  {
   "cell_type": "markdown",
   "id": "cae18597-4c2a-4f85-bdd7-72ef94fd815b",
   "metadata": {},
   "source": [
    "Q.3 - Which Python statements are used to catch and handle exceptions? Explain with an example."
   ]
  },
  {
   "cell_type": "markdown",
   "id": "90aa8490-496c-4fff-9d83-746dbec501e0",
   "metadata": {},
   "source": [
    "Answer - The try and except block in Python is used to catch and handle exceptions. "
   ]
  },
  {
   "cell_type": "markdown",
   "id": "7b07d136-401a-42a8-9672-e163da9771f6",
   "metadata": {},
   "source": [
    "Example-"
   ]
  },
  {
   "cell_type": "code",
   "execution_count": 1,
   "id": "fe7e6c5f-2fb7-4228-847a-8689aac892d9",
   "metadata": {},
   "outputs": [
    {
     "name": "stdout",
     "output_type": "stream",
     "text": [
      "This is my Exception block not writable\n"
     ]
    }
   ],
   "source": [
    "try :\n",
    "    f = open('test.txt','r')\n",
    "    f.write('This is only test file')\n",
    "except Exception as e :\n",
    "    print('This is my Exception block',e)"
   ]
  },
  {
   "cell_type": "markdown",
   "id": "7418b097-f306-44ee-87dd-989c0ef64ef3",
   "metadata": {},
   "source": [
    "Q.4 - Explain with an example:\n",
    "a. try and else\n",
    "b. finally\n",
    "c. raise"
   ]
  },
  {
   "cell_type": "code",
   "execution_count": 2,
   "id": "4cddc95c-a7e8-4215-ac47-365d62f2b78b",
   "metadata": {},
   "outputs": [
    {
     "name": "stdout",
     "output_type": "stream",
     "text": [
      "This will be executed once tour try will execute without error\n"
     ]
    }
   ],
   "source": [
    "#Answer\n",
    "#a. try and else\n",
    "try :\n",
    "    f = open('test.txt','w')\n",
    "    f.write('This is only test file')\n",
    "except Exception as e :\n",
    "    print('This is my Exception block',e)\n",
    "else :\n",
    "    f.close()\n",
    "    print('This will be executed once tour try will execute without error')"
   ]
  },
  {
   "cell_type": "code",
   "execution_count": 4,
   "id": "abebc6eb-41d0-43f8-9ac5-a8e221d301ab",
   "metadata": {},
   "outputs": [
    {
     "name": "stdout",
     "output_type": "stream",
     "text": [
      "This will be finally execute itself in any situation\n"
     ]
    }
   ],
   "source": [
    "#Answer\n",
    "#b. finally\n",
    "try :\n",
    "    f = open('test2.txt','w')\n",
    "    f.write('This is only test file')\n",
    "finally :\n",
    "    print('This will be finally execute itself in any situation')"
   ]
  },
  {
   "cell_type": "code",
   "execution_count": 3,
   "id": "b5acb53d-bc23-4954-b83f-2e7b9a5535f3",
   "metadata": {},
   "outputs": [
    {
     "name": "stdout",
     "output_type": "stream",
     "text": [
      "An exception flew by!\n"
     ]
    }
   ],
   "source": [
    "#Answer\n",
    "#c. raise\n",
    "try:\n",
    "    raise NameError('HiThere')\n",
    "except NameError:\n",
    "    print('An exception flew by!')     #This is raise error"
   ]
  },
  {
   "cell_type": "markdown",
   "id": "1d0e8617-d226-43b2-825a-515154e8cc57",
   "metadata": {},
   "source": [
    "Q.5 - What  are Custom Exceptions in python ? Why do we need Custom Exceptions? Explain with an example."
   ]
  },
  {
   "cell_type": "markdown",
   "id": "94918ecf-92e5-4655-961e-e39ff71f56a0",
   "metadata": {
    "tags": []
   },
   "source": [
    "Custom Exceptions are based on project requirement, When we needs to create own exceptions and raise explicitly for corresponding scenarios. Such types of exceptions are called customized Exceptions or Programmatic Exceptions. We can raise a custom exception by using the keyword 'raise'."
   ]
  },
  {
   "cell_type": "markdown",
   "id": "6165c55a-c99b-4f15-b1a7-bcb7bddecf2f",
   "metadata": {
    "tags": []
   },
   "source": [
    "Built-in exceptions offer information about Python-related problems, and custom exceptions will add information about project-related problems. That way, we need to custom exception."
   ]
  },
  {
   "cell_type": "markdown",
   "id": "4791c402-b94f-4517-82d0-67b1b09dd2fb",
   "metadata": {},
   "source": [
    "Example:-"
   ]
  },
  {
   "cell_type": "code",
   "execution_count": 1,
   "id": "e572a2ed-dc0e-4c81-b0c6-c8ac44f0d292",
   "metadata": {},
   "outputs": [
    {
     "name": "stdin",
     "output_type": "stream",
     "text": [
      "Enter your age:  158\n"
     ]
    },
    {
     "name": "stdout",
     "output_type": "stream",
     "text": [
      "Age is too high\n"
     ]
    }
   ],
   "source": [
    "class InvalidAgeError(Exception):\n",
    "    def __init__(self, msg):\n",
    "        self.msg = msg\n",
    "\n",
    "def validate_age(age):\n",
    "    if age < 0:\n",
    "        raise InvalidAgeError('Enter a valid age')\n",
    "    elif age > 150:\n",
    "        raise InvalidAgeError('Age is too high')\n",
    "    else:\n",
    "        print('Age is valid')\n",
    "\n",
    "try:\n",
    "    age = int(input('Enter your age: '))\n",
    "    validate_age(age)\n",
    "except InvalidAgeError as e:\n",
    "    print(e)"
   ]
  },
  {
   "cell_type": "markdown",
   "id": "e67abc45-10e3-48d2-bcdd-e2e9857d0de3",
   "metadata": {},
   "source": [
    "Q.6 - Create custom exception class. Use this class to handle an exception."
   ]
  },
  {
   "cell_type": "code",
   "execution_count": 1,
   "id": "a804806f-4be6-4a97-9caf-64e0ab9129f7",
   "metadata": {},
   "outputs": [
    {
     "name": "stdout",
     "output_type": "stream",
     "text": [
      "Error: Cannot divide by zero\n"
     ]
    }
   ],
   "source": [
    "class CustomException(Exception):\n",
    "    pass\n",
    "\n",
    "# Example function that raises the custom exception\n",
    "def divide_numbers(a, b):\n",
    "    if b == 0:\n",
    "        raise CustomException(\"Cannot divide by zero\")\n",
    "    return a / b\n",
    "\n",
    "# Example usage\n",
    "try:\n",
    "    result = divide_numbers(10, 0)\n",
    "except CustomException as e:\n",
    "    print(\"Error:\", e)"
   ]
  },
  {
   "cell_type": "code",
   "execution_count": null,
   "id": "ee7b82a9-0f48-43f7-92a2-8c3f01f1da0f",
   "metadata": {},
   "outputs": [],
   "source": []
  }
 ],
 "metadata": {
  "kernelspec": {
   "display_name": "Python 3 (ipykernel)",
   "language": "python",
   "name": "python3"
  },
  "language_info": {
   "codemirror_mode": {
    "name": "ipython",
    "version": 3
   },
   "file_extension": ".py",
   "mimetype": "text/x-python",
   "name": "python",
   "nbconvert_exporter": "python",
   "pygments_lexer": "ipython3",
   "version": "3.10.8"
  }
 },
 "nbformat": 4,
 "nbformat_minor": 5
}
